{
 "cells": [
  {
   "cell_type": "code",
   "execution_count": 13,
   "metadata": {},
   "outputs": [
    {
     "name": "stdout",
     "output_type": "stream",
     "text": [
      "[12, 11, 99, 7, 6, 5]\n",
      "[11, 10, 99, 6, 5, 4]\n",
      "[10, 9, 99, 5, 4, 3]\n",
      "[9, 8, 7, 6, 99, 2]\n",
      "[10, 9, 99, 99, 99, 1]\n",
      "[11, 10, 11, 12, 99, 0]\n",
      "['v', 'v', ' ', 'v', 'v', 'v']\n",
      "['v', 'v', ' ', 'v', 'v', 'v']\n",
      "['v', 'v', ' ', '>', '>', 'v']\n",
      "['>', '>', '>', '^', ' ', 'v']\n",
      "['^', '^', ' ', ' ', ' ', 'v']\n",
      "['^', '^', '<', '<', ' ', '*']\n"
     ]
    }
   ],
   "source": [
    "# ----------\n",
    "# User Instructions:\n",
    "# \n",
    "# Define a function, search() that returns a list\n",
    "# in the form of [optimal path length, row, col]. For\n",
    "# the grid shown below, your function should output\n",
    "# [11, 4, 5].\n",
    "#\n",
    "# If there is no valid path from the start point\n",
    "# to the goal, your function should return the string\n",
    "# 'fail'\n",
    "# ----------\n",
    "\n",
    "# Grid format:\n",
    "#   0 = Navigable space\n",
    "#   1 = Occupied space\n",
    "\n",
    "\n",
    "grid = [[0, 0, 1, 0, 0, 0],\n",
    "        [0, 0, 1, 0, 0, 0],\n",
    "        [0, 0, 1, 0, 0, 0],\n",
    "        [0, 0, 0, 0, 1, 0],\n",
    "        [0, 0, 1, 1, 1, 0],\n",
    "        [0, 0, 0, 0, 1, 0]]\n",
    "\n",
    "heuristic = [[9,8, 7, 6, 5, 4],\n",
    "        [8, 7, 6, 5, 4, 3],\n",
    "        [7, 6, 5, 4, 3, 2],\n",
    "        [6, 5, 4, 3, 2, 1],\n",
    "        [5, 4, 3, 2, 1, 0]]\n",
    "init = [0, 0]\n",
    "goal = [len(grid)-1, len(grid[0])-1]\n",
    "cost = 1\n",
    "\n",
    "delta = [[-1, 0], # go up\n",
    "         [ 0,-1], # go left\n",
    "         [ 1, 0], # go down\n",
    "         [ 0, 1]] # go right\n",
    "\n",
    "delta_name = ['^', '<', 'v', '>']\n",
    "\n",
    "def value():\n",
    "    value=[[99 for col in range (len(grid[0]))] for row in range (len(grid))]\n",
    "    policy=[[' ' for col in range (len(grid[0]))] for row in range (len(grid))]\n",
    "    change=True\n",
    "    while change:\n",
    "        change=False\n",
    "        \n",
    "        for x in range(len(grid)):\n",
    "            for y in range(len(grid[0])):\n",
    "                if goal[0]==x and goal[1]==y:\n",
    "                    if value[x][y]>0:\n",
    "                        value[x][y]=0\n",
    "                        policy[x][y]='*'\n",
    "                        change=True\n",
    "                elif grid[x][y]==0:\n",
    "                    for a in range(len(delta)):\n",
    "                        x2=x+delta[a][0]\n",
    "                        y2=y+delta[a][1]\n",
    "                    \n",
    "                        if x2 >=0 and x2<len(grid) and y2>=0 and y2<len(grid[0]) and grid[x2][y2]==0:\n",
    "                            v2=value[x2][y2]+cost\n",
    "                            if v2<value[x][y]:\n",
    "                                change=True\n",
    "                                value[x][y]=v2\n",
    "                                policy[x][y]=delta_name[a]\n",
    "    for i in range(len(value)):\n",
    "        print (value[i])\n",
    "    for i in range(len(policy)):\n",
    "        print (policy[i])\n",
    "\n",
    "\n",
    "    \n",
    "\n",
    "value ()\n"
   ]
  },
  {
   "cell_type": "code",
   "execution_count": 2,
   "metadata": {},
   "outputs": [
    {
     "name": "stdout",
     "output_type": "stream",
     "text": [
      "[[6, 4, 2], [7, 0, 3], [7, 1, 4]]\n"
     ]
    }
   ],
   "source": [
    "grid = [[0, 0, 1, 0, 0, 0],\n",
    "        [0, 0, 1, 0, 0, 0],\n",
    "        [0, 0, 0, 0, 1, 0],\n",
    "        [0, 0, 1, 1, 1, 0],\n",
    "        [0, 0, 0, 0, 1, 0]]\n",
    "    \n",
    "open=[[7, 1, 4],[7, 0, 3],[6, 4, 2]]\n",
    "open.sort()\n",
    "print(open)"
   ]
  },
  {
   "cell_type": "code",
   "execution_count": 5,
   "metadata": {},
   "outputs": [
    {
     "name": "stdout",
     "output_type": "stream",
     "text": [
      "[0, 0, 1, 0, 0, 0]    5\n"
     ]
    }
   ],
   "source": [
    "grid = [[0, 0, 1, 0, 0, 0],\n",
    "        [0, 0, 1, 0, 0, 0],\n",
    "        [0, 0, 0, 0, 1, 0],\n",
    "        [0, 0, 1, 1, 1, 0],\n",
    "        [0, 0, 0, 0, 1, 0]]\n",
    "print(grid[0],\"  \",len(grid))\n"
   ]
  }
 ],
 "metadata": {
  "kernelspec": {
   "display_name": "Python 3",
   "language": "python",
   "name": "python3"
  },
  "language_info": {
   "codemirror_mode": {
    "name": "ipython",
    "version": 3
   },
   "file_extension": ".py",
   "mimetype": "text/x-python",
   "name": "python",
   "nbconvert_exporter": "python",
   "pygments_lexer": "ipython3",
   "version": "3.7.5"
  }
 },
 "nbformat": 4,
 "nbformat_minor": 2
}
